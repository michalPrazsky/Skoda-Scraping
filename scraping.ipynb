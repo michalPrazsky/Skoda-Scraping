{
 "cells": [
  {
   "cell_type": "code",
   "execution_count": 173,
   "metadata": {},
   "outputs": [],
   "source": [
    "from selenium import webdriver\n",
    "from selenium.webdriver.common.by import By\n",
    "from selenium.common.exceptions import StaleElementReferenceException\n",
    "from selenium.common.exceptions import NoSuchElementException\n",
    "import pandas as pd \n",
    "import requests\n",
    "from word2number import w2n"
   ]
  },
  {
   "cell_type": "code",
   "execution_count": 174,
   "metadata": {},
   "outputs": [],
   "source": [
    "driver = webdriver.Chrome()\n",
    "\n",
    "url = \"http://books.toscrape.com\"\n",
    "categories = [\"Travel\", \"Mystery\", \"Historical Fiction\", \"Sequential Art\", \"Classics\"]\n",
    "\n",
    "driver.get(url)"
   ]
  },
  {
   "cell_type": "code",
   "execution_count": 175,
   "metadata": {},
   "outputs": [],
   "source": [
    "def price_to_czk(value):\n",
    "    url = \"https://api.exchangerate-api.com/v4/latest/GBP\"\n",
    "    response = requests.get(url)\n",
    "    data = response.json()\n",
    "    return value * data['rates']['CZK']\n"
   ]
  },
  {
   "cell_type": "code",
   "execution_count": 176,
   "metadata": {},
   "outputs": [],
   "source": [
    "result = []\n",
    "def find_category(category):\n",
    "    link = driver.find_element(By.PARTIAL_LINK_TEXT, category)\n",
    "    link.click()\n",
    "    \n",
    "    try:\n",
    "        current_page_element = driver.find_element(By.CSS_SELECTOR, \".current\")\n",
    "        total_pages = int(current_page_element.text.split()[-1])\n",
    "        print(category, total_pages)\n",
    "    except NoSuchElementException:\n",
    "        total_pages = 1\n",
    "        print(category, total_pages)\n",
    "\n",
    "    for page in range(1,total_pages+1):\n",
    "\n",
    "        books = driver.find_elements(By.CSS_SELECTOR, \".product_pod\")\n",
    "\n",
    "        for book in books:\n",
    "            book.find_element(By.CSS_SELECTOR, \"h3 a\").click()\n",
    "\n",
    "            book_name = driver.find_element(By.CSS_SELECTOR, \"h1\").text\n",
    "            book_category = category\n",
    "            price_str = driver.find_element(By.CSS_SELECTOR, \".price_color\").text\n",
    "            price = float(price_str[1:])\n",
    "            price_czk = price_to_czk(price)\n",
    "            stock_text = driver.find_element(By.CSS_SELECTOR, \".instock.availability\").text.strip()\n",
    "            in_stock,stock_amount = stock_text.split(\"(\")\n",
    "            if stock_amount.endswith(\")\"):\n",
    "                stock_amount = stock_amount[:-1].strip()\n",
    "            try:\n",
    "                rating_str = driver.find_element(By.CSS_SELECTOR, \".star-rating\").get_attribute(\"class\").split()[-1]\n",
    "                rating = w2n.word_to_num(rating_str)\n",
    "            except StaleElementReferenceException:\n",
    "                rating_str = driver.find_element(By.CSS_SELECTOR, \".star-rating\").get_attribute(\"class\").split()[-1]\n",
    "                rating = w2n.word_to_num(rating_str)\n",
    "\n",
    "            result.append((book_name, book_category, price_czk, in_stock,stock_amount, rating))\n",
    "\n",
    "            driver.back()\n",
    "        \n",
    "        if page < total_pages:\n",
    "            next_page = driver.find_element(By.CSS_SELECTOR, \".next a\")\n",
    "            next_page.click()\n",
    "        "
   ]
  },
  {
   "cell_type": "code",
   "execution_count": 177,
   "metadata": {},
   "outputs": [
    {
     "name": "stdout",
     "output_type": "stream",
     "text": [
      "Travel 1\n",
      "Mystery 2\n",
      "Historical Fiction 2\n",
      "Sequential Art 4\n",
      "Classics 1\n"
     ]
    }
   ],
   "source": [
    "for category in categories: \n",
    "    find_category(category)\n",
    "    driver.get(url)\n",
    "driver.quit()\n",
    "    "
   ]
  },
  {
   "cell_type": "code",
   "execution_count": 180,
   "metadata": {},
   "outputs": [],
   "source": [
    "df = pd.DataFrame(result, columns=[\"Book Name\", \"Category\", \"Price(in CZK)\", \"Stock Status\", \"Stock Amount\", \"Rating\"])\n",
    "\n",
    "df.to_csv(\"output.csv\", index=False)"
   ]
  },
  {
   "cell_type": "code",
   "execution_count": 183,
   "metadata": {},
   "outputs": [
    {
     "name": "stdout",
     "output_type": "stream",
     "text": [
      "Book Name: object\n",
      "Category: object\n",
      "Price(in CZK): float64\n",
      "Stock Status: object\n",
      "Stock Amount: object\n",
      "Rating: int64\n"
     ]
    }
   ],
   "source": [
    "df.head()\n",
    "\n",
    "for column in df.columns:\n",
    "    print(f\"{column}: {df[column].dtype}\")"
   ]
  }
 ],
 "metadata": {
  "kernelspec": {
   "display_name": "Python 3",
   "language": "python",
   "name": "python3"
  },
  "language_info": {
   "codemirror_mode": {
    "name": "ipython",
    "version": 3
   },
   "file_extension": ".py",
   "mimetype": "text/x-python",
   "name": "python",
   "nbconvert_exporter": "python",
   "pygments_lexer": "ipython3",
   "version": "3.11.3"
  }
 },
 "nbformat": 4,
 "nbformat_minor": 2
}
